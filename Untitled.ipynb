{
 "cells": [
  {
   "cell_type": "code",
   "execution_count": 1,
   "metadata": {},
   "outputs": [],
   "source": [
    "from fuzzywuzzy import fuzz"
   ]
  },
  {
   "cell_type": "code",
   "execution_count": 42,
   "metadata": {},
   "outputs": [],
   "source": [
    "def get_brand_name(article_name, choices):\n",
    "    maxScore = 0\n",
    "    maxChoice = \"\"\n",
    "    for choice in choices:\n",
    "        score = fuzz.token_set_ratio(\" \" + article_name + \" \", \" \" + choice + \" \")\n",
    "        if score > maxScore or (score == maxScore and len(choice) > len(maxChoice)):\n",
    "            maxScore = score\n",
    "            maxChoice = choice\n",
    "        if len(choice) > 5:\n",
    "            concat_article_name = article_name.replace(\" \", \"\")\n",
    "            concat_choice = choice.replace(\" \", \"\")\n",
    "            score = 100 if concat_choice in concat_article_name else 0\n",
    "            if score > maxScore or (score == maxScore and len(choice) > len(maxChoice)):\n",
    "                maxScore = score\n",
    "                maxChoice = choice\n",
    "    return maxChoice, maxScore"
   ]
  },
  {
   "cell_type": "code",
   "execution_count": 45,
   "metadata": {},
   "outputs": [
    {
     "data": {
      "text/plain": [
       "('ram bandh', 100)"
      ]
     },
     "execution_count": 45,
     "metadata": {},
     "output_type": "execute_result"
    }
   ],
   "source": [
    "get_brand_name(\"rambandhu pow chilli powdr pp\", [\"ram bandh\", \"ram band\"])"
   ]
  },
  {
   "cell_type": "code",
   "execution_count": 41,
   "metadata": {},
   "outputs": [
    {
     "data": {
      "text/plain": [
       "38"
      ]
     },
     "execution_count": 41,
     "metadata": {},
     "output_type": "execute_result"
    }
   ],
   "source": []
  },
  {
   "cell_type": "code",
   "execution_count": 32,
   "metadata": {},
   "outputs": [
    {
     "name": "stdout",
     "output_type": "stream",
     "text": [
      "Geeks for Geeks Geeks Geeks Geeks\n"
     ]
    }
   ],
   "source": [
    "string = \"geeks for geeks geeks geeks geeks\" \n",
    "\n",
    "print(string.replace(\"geeks\", \"Geeks\"))"
   ]
  },
  {
   "cell_type": "code",
   "execution_count": 46,
   "metadata": {},
   "outputs": [],
   "source": [
    "def get_brand_from_map(article_name):\n",
    "    brand_map = {\n",
    "        \"ph\": \"premium harvest\",\n",
    "        \"ttrt\": \"tasty treat\",\n",
    "        \"gh\": \"golden harvest\",\n",
    "        \"on1y\": \"only\"\n",
    "    }\n",
    "    for key in brand_map:\n",
    "        if key in article_name:\n",
    "            return brand_map[key]\n",
    "    return None"
   ]
  },
  {
   "cell_type": "code",
   "execution_count": 52,
   "metadata": {},
   "outputs": [
    {
     "name": "stdout",
     "output_type": "stream",
     "text": [
      "None\n"
     ]
    }
   ],
   "source": [
    "print(get_brand_from_map(\"txtrt\"))"
   ]
  },
  {
   "cell_type": "code",
   "execution_count": null,
   "metadata": {},
   "outputs": [],
   "source": []
  }
 ],
 "metadata": {
  "kernelspec": {
   "display_name": "Python 3",
   "language": "python",
   "name": "python3"
  },
  "language_info": {
   "codemirror_mode": {
    "name": "ipython",
    "version": 3
   },
   "file_extension": ".py",
   "mimetype": "text/x-python",
   "name": "python",
   "nbconvert_exporter": "python",
   "pygments_lexer": "ipython3",
   "version": "3.7.2"
  }
 },
 "nbformat": 4,
 "nbformat_minor": 2
}
