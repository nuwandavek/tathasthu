{
 "cells": [
  {
   "cell_type": "code",
   "execution_count": 1,
   "metadata": {},
   "outputs": [],
   "source": [
    "import numpy as np\n",
    "import pandas as pd"
   ]
  },
  {
   "cell_type": "code",
   "execution_count": 9,
   "metadata": {},
   "outputs": [
    {
     "name": "stdout",
     "output_type": "stream",
     "text": [
      "                                    article_name\n",
      "0                    Chicken Burger Patty (250G)\n",
      "1              BRITANNIA DAILY FAMILY LONG BREAD\n",
      "2  POOOF POTATO KETTLE CHIPS ZESTY MASALA PP 30g\n",
      "3                            FEVIBOND TUBE 20 ML\n",
      "4             KITKAT DESSERT DELIGHT TRUFFLE 50g\n",
      "         brand_name\n",
      "0     ORGANIC INDIA\n",
      "1  head & shoulders\n",
      "2          Sunfeast\n",
      "3            Unibic\n",
      "4           CREMICA\n"
     ]
    }
   ],
   "source": [
    "train = pd.read_csv('refined.csv')\n",
    "manufacturers = pd.read_csv(\"manufacturer_list.csv\")\n",
    "print(train.head())\n",
    "print(manufacturers.head())"
   ]
  },
  {
   "cell_type": "code",
   "execution_count": 18,
   "metadata": {},
   "outputs": [],
   "source": [
    "train['transformed'] = train['article_name'].str.lower()\n",
    "train['transformed'] = train['transformed'].str.replace(\"'\",\"\")\n",
    "train['transformed'] = train['transformed'].str.replace(\"(\",\"\")\n",
    "train['transformed'] = train['transformed'].str.replace(\")\",\"\")\n",
    "train['transformed'] = train['transformed'].str.replace(\")\",\"\")\n",
    "train['transformed'] = train['transformed'].str.replace(\"/\",\" \")\n",
    "train['transformed'] = train['transformed'].str.replace(\"&\",\"\")\n",
    "train['transformed'] = train['transformed'].str.replace(\"-\",\"\")"
   ]
  },
  {
   "cell_type": "code",
   "execution_count": 20,
   "metadata": {},
   "outputs": [
    {
     "data": {
      "text/html": [
       "<div>\n",
       "<style scoped>\n",
       "    .dataframe tbody tr th:only-of-type {\n",
       "        vertical-align: middle;\n",
       "    }\n",
       "\n",
       "    .dataframe tbody tr th {\n",
       "        vertical-align: top;\n",
       "    }\n",
       "\n",
       "    .dataframe thead th {\n",
       "        text-align: right;\n",
       "    }\n",
       "</style>\n",
       "<table border=\"1\" class=\"dataframe\">\n",
       "  <thead>\n",
       "    <tr style=\"text-align: right;\">\n",
       "      <th></th>\n",
       "      <th>article_name</th>\n",
       "      <th>transformed</th>\n",
       "    </tr>\n",
       "  </thead>\n",
       "  <tbody>\n",
       "    <tr>\n",
       "      <th>0</th>\n",
       "      <td>Chicken Burger Patty (250G)</td>\n",
       "      <td>chicken burger patty 250g</td>\n",
       "    </tr>\n",
       "    <tr>\n",
       "      <th>1</th>\n",
       "      <td>BRITANNIA DAILY FAMILY LONG BREAD</td>\n",
       "      <td>britannia daily family long bread</td>\n",
       "    </tr>\n",
       "    <tr>\n",
       "      <th>2</th>\n",
       "      <td>POOOF POTATO KETTLE CHIPS ZESTY MASALA PP 30g</td>\n",
       "      <td>pooof potato kettle chips zesty masala pp 30g</td>\n",
       "    </tr>\n",
       "    <tr>\n",
       "      <th>3</th>\n",
       "      <td>FEVIBOND TUBE 20 ML</td>\n",
       "      <td>fevibond tube 20 ml</td>\n",
       "    </tr>\n",
       "    <tr>\n",
       "      <th>4</th>\n",
       "      <td>KITKAT DESSERT DELIGHT TRUFFLE 50g</td>\n",
       "      <td>kitkat dessert delight truffle 50g</td>\n",
       "    </tr>\n",
       "    <tr>\n",
       "      <th>5</th>\n",
       "      <td>BLUE BIRD SPAGHETTI PASTA 200G</td>\n",
       "      <td>blue bird spaghetti pasta 200g</td>\n",
       "    </tr>\n",
       "    <tr>\n",
       "      <th>6</th>\n",
       "      <td>NIRAPARA AVALOSE PODI 500GM</td>\n",
       "      <td>nirapara avalose podi 500gm</td>\n",
       "    </tr>\n",
       "    <tr>\n",
       "      <th>7</th>\n",
       "      <td>NIVEA ROLL ON FRESH NATURAL 50ml</td>\n",
       "      <td>nivea roll on fresh natural 50ml</td>\n",
       "    </tr>\n",
       "    <tr>\n",
       "      <th>8</th>\n",
       "      <td>FIAMA DW SOAP EXOTIC DREAM BX 115g</td>\n",
       "      <td>fiama dw soap exotic dream bx 115g</td>\n",
       "    </tr>\n",
       "    <tr>\n",
       "      <th>9</th>\n",
       "      <td>SANGIS KTCN PERI PERI MAYONNAISE BT 200g</td>\n",
       "      <td>sangis ktcn peri peri mayonnaise bt 200g</td>\n",
       "    </tr>\n",
       "  </tbody>\n",
       "</table>\n",
       "</div>"
      ],
      "text/plain": [
       "                                    article_name  \\\n",
       "0                    Chicken Burger Patty (250G)   \n",
       "1              BRITANNIA DAILY FAMILY LONG BREAD   \n",
       "2  POOOF POTATO KETTLE CHIPS ZESTY MASALA PP 30g   \n",
       "3                            FEVIBOND TUBE 20 ML   \n",
       "4             KITKAT DESSERT DELIGHT TRUFFLE 50g   \n",
       "5                 BLUE BIRD SPAGHETTI PASTA 200G   \n",
       "6                    NIRAPARA AVALOSE PODI 500GM   \n",
       "7               NIVEA ROLL ON FRESH NATURAL 50ml   \n",
       "8             FIAMA DW SOAP EXOTIC DREAM BX 115g   \n",
       "9       SANGIS KTCN PERI PERI MAYONNAISE BT 200g   \n",
       "\n",
       "                                     transformed  \n",
       "0                      chicken burger patty 250g  \n",
       "1              britannia daily family long bread  \n",
       "2  pooof potato kettle chips zesty masala pp 30g  \n",
       "3                            fevibond tube 20 ml  \n",
       "4             kitkat dessert delight truffle 50g  \n",
       "5                 blue bird spaghetti pasta 200g  \n",
       "6                    nirapara avalose podi 500gm  \n",
       "7               nivea roll on fresh natural 50ml  \n",
       "8             fiama dw soap exotic dream bx 115g  \n",
       "9       sangis ktcn peri peri mayonnaise bt 200g  "
      ]
     },
     "execution_count": 20,
     "metadata": {},
     "output_type": "execute_result"
    }
   ],
   "source": [
    "train.head(10)"
   ]
  },
  {
   "cell_type": "code",
   "execution_count": 30,
   "metadata": {},
   "outputs": [],
   "source": [
    "train['quantity'] = train['transformed'].str.extract(r'([0-9].*(ml|g|kg|l|s|p))')\n",
    "train['quantity'] = train['quantity']"
   ]
  },
  {
   "cell_type": "code",
   "execution_count": 36,
   "metadata": {},
   "outputs": [
    {
     "data": {
      "text/html": [
       "<div>\n",
       "<style scoped>\n",
       "    .dataframe tbody tr th:only-of-type {\n",
       "        vertical-align: middle;\n",
       "    }\n",
       "\n",
       "    .dataframe tbody tr th {\n",
       "        vertical-align: top;\n",
       "    }\n",
       "\n",
       "    .dataframe thead th {\n",
       "        text-align: right;\n",
       "    }\n",
       "</style>\n",
       "<table border=\"1\" class=\"dataframe\">\n",
       "  <thead>\n",
       "    <tr style=\"text-align: right;\">\n",
       "      <th></th>\n",
       "      <th>article_name</th>\n",
       "      <th>transformed</th>\n",
       "      <th>quantity</th>\n",
       "    </tr>\n",
       "  </thead>\n",
       "  <tbody>\n",
       "    <tr>\n",
       "      <th>0</th>\n",
       "      <td>Chicken Burger Patty (250G)</td>\n",
       "      <td>chicken burger patty 250g</td>\n",
       "      <td>250g</td>\n",
       "    </tr>\n",
       "    <tr>\n",
       "      <th>1</th>\n",
       "      <td>BRITANNIA DAILY FAMILY LONG BREAD</td>\n",
       "      <td>britannia daily family long bread</td>\n",
       "      <td>NaN</td>\n",
       "    </tr>\n",
       "    <tr>\n",
       "      <th>2</th>\n",
       "      <td>POOOF POTATO KETTLE CHIPS ZESTY MASALA PP 30g</td>\n",
       "      <td>pooof potato kettle chips zesty masala pp 30g</td>\n",
       "      <td>30g</td>\n",
       "    </tr>\n",
       "    <tr>\n",
       "      <th>3</th>\n",
       "      <td>FEVIBOND TUBE 20 ML</td>\n",
       "      <td>fevibond tube 20 ml</td>\n",
       "      <td>20 ml</td>\n",
       "    </tr>\n",
       "    <tr>\n",
       "      <th>4</th>\n",
       "      <td>KITKAT DESSERT DELIGHT TRUFFLE 50g</td>\n",
       "      <td>kitkat dessert delight truffle 50g</td>\n",
       "      <td>50g</td>\n",
       "    </tr>\n",
       "  </tbody>\n",
       "</table>\n",
       "</div>"
      ],
      "text/plain": [
       "                                    article_name  \\\n",
       "0                    Chicken Burger Patty (250G)   \n",
       "1              BRITANNIA DAILY FAMILY LONG BREAD   \n",
       "2  POOOF POTATO KETTLE CHIPS ZESTY MASALA PP 30g   \n",
       "3                            FEVIBOND TUBE 20 ML   \n",
       "4             KITKAT DESSERT DELIGHT TRUFFLE 50g   \n",
       "\n",
       "                                     transformed quantity  \n",
       "0                      chicken burger patty 250g     250g  \n",
       "1              britannia daily family long bread      NaN  \n",
       "2  pooof potato kettle chips zesty masala pp 30g      30g  \n",
       "3                            fevibond tube 20 ml    20 ml  \n",
       "4             kitkat dessert delight truffle 50g      50g  "
      ]
     },
     "execution_count": 36,
     "metadata": {},
     "output_type": "execute_result"
    }
   ],
   "source": [
    "train.head()"
   ]
  },
  {
   "cell_type": "code",
   "execution_count": 37,
   "metadata": {},
   "outputs": [
    {
     "data": {
      "text/html": [
       "<div>\n",
       "<style scoped>\n",
       "    .dataframe tbody tr th:only-of-type {\n",
       "        vertical-align: middle;\n",
       "    }\n",
       "\n",
       "    .dataframe tbody tr th {\n",
       "        vertical-align: top;\n",
       "    }\n",
       "\n",
       "    .dataframe thead th {\n",
       "        text-align: right;\n",
       "    }\n",
       "</style>\n",
       "<table border=\"1\" class=\"dataframe\">\n",
       "  <thead>\n",
       "    <tr style=\"text-align: right;\">\n",
       "      <th></th>\n",
       "      <th>brand_name</th>\n",
       "    </tr>\n",
       "  </thead>\n",
       "  <tbody>\n",
       "    <tr>\n",
       "      <th>0</th>\n",
       "      <td>ORGANIC INDIA</td>\n",
       "    </tr>\n",
       "    <tr>\n",
       "      <th>1</th>\n",
       "      <td>head &amp; shoulders</td>\n",
       "    </tr>\n",
       "    <tr>\n",
       "      <th>2</th>\n",
       "      <td>Sunfeast</td>\n",
       "    </tr>\n",
       "    <tr>\n",
       "      <th>3</th>\n",
       "      <td>Unibic</td>\n",
       "    </tr>\n",
       "    <tr>\n",
       "      <th>4</th>\n",
       "      <td>CREMICA</td>\n",
       "    </tr>\n",
       "  </tbody>\n",
       "</table>\n",
       "</div>"
      ],
      "text/plain": [
       "         brand_name\n",
       "0     ORGANIC INDIA\n",
       "1  head & shoulders\n",
       "2          Sunfeast\n",
       "3            Unibic\n",
       "4           CREMICA"
      ]
     },
     "execution_count": 37,
     "metadata": {},
     "output_type": "execute_result"
    }
   ],
   "source": [
    "manufacturers.head()"
   ]
  },
  {
   "cell_type": "code",
   "execution_count": null,
   "metadata": {},
   "outputs": [],
   "source": []
  }
 ],
 "metadata": {
  "kernelspec": {
   "display_name": "Python 3",
   "language": "python",
   "name": "python3"
  },
  "language_info": {
   "codemirror_mode": {
    "name": "ipython",
    "version": 3
   },
   "file_extension": ".py",
   "mimetype": "text/x-python",
   "name": "python",
   "nbconvert_exporter": "python",
   "pygments_lexer": "ipython3",
   "version": "3.7.1"
  }
 },
 "nbformat": 4,
 "nbformat_minor": 2
}
